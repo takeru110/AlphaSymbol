{
 "cells": [
  {
   "cell_type": "code",
   "execution_count": 7,
   "id": "3bf3ccd4-bd5a-4b9b-896c-fb97393263c9",
   "metadata": {},
   "outputs": [],
   "source": [
    "import torch\n",
    "import numpy as np\n",
    "import sympy as sp\n",
    "import os, sys\n",
    "import symbolicregression\n",
    "import requests\n",
    "from IPython.display import display"
   ]
  },
  {
   "cell_type": "code",
   "execution_count": 8,
   "id": "52a6b685-a1ed-4cb5-975d-f1bd316ec778",
   "metadata": {},
   "outputs": [
    {
     "name": "stdout",
     "output_type": "stream",
     "text": [
      "cuda:0\n",
      "Model successfully loaded!\n"
     ]
    }
   ],
   "source": [
    "model_path = \"model.pt\" \n",
    "try:\n",
    "    if not os.path.isfile(model_path): \n",
    "        url = \"https://dl.fbaipublicfiles.com/symbolicregression/model1.pt\"\n",
    "        r = requests.get(url, allow_redirects=True)\n",
    "        open(model_path, 'wb').write(r.content)\n",
    "    if not torch.cuda.is_available():\n",
    "        model = torch.load(model_path, map_location=torch.device('cpu'))\n",
    "    else:\n",
    "        model = torch.load(model_path)\n",
    "        model = model.cuda()\n",
    "    print(model.device)\n",
    "    print(\"Model successfully loaded!\")\n",
    "\n",
    "except Exception as e:\n",
    "    print(\"ERROR: model not loaded! path was: {}\".format(model_path))\n",
    "    print(e)    "
   ]
  },
  {
   "cell_type": "code",
   "execution_count": 14,
   "id": "73c0b3e7",
   "metadata": {},
   "outputs": [],
   "source": [
    "save_path = \"/home/takeru/AlphaSymbol/models/meta/model.pkl\"\n",
    "import pickle\n",
    "\n",
    "with open(save_path, 'wb') as f:\n",
    "    pickle.dump(model, f)"
   ]
  },
  {
   "cell_type": "code",
   "execution_count": null,
   "id": "64682115",
   "metadata": {},
   "outputs": [
    {
     "data": {
      "text/plain": [
       "collections.OrderedDict"
      ]
     },
     "execution_count": 13,
     "metadata": {},
     "output_type": "execute_result"
    }
   ],
   "source": []
  },
  {
   "cell_type": "code",
   "execution_count": 4,
   "id": "cb5ebd8c-235e-4051-87a4-acbafadf937c",
   "metadata": {},
   "outputs": [],
   "source": [
    "est = symbolicregression.model.SymbolicTransformerRegressor(\n",
    "                        model=model,\n",
    "                        max_input_points=200,\n",
    "                        n_trees_to_refine=100,\n",
    "                        rescale=True\n",
    "                        )"
   ]
  },
  {
   "cell_type": "code",
   "execution_count": 7,
   "id": "f539c7ed-29e3-453a-b226-09dfab999fec",
   "metadata": {},
   "outputs": [],
   "source": [
    "##Example of data\n",
    "# Pred Expr:  C(R(R(R(P(1, 1), P(2, 1), Z()), R(S(), P(3, 2), S()), Z()), C(C(S(), S()), C(S(), P(2, 1))), Z()), C(R(P(1, 1), R(P(1, 1), P(3, 1), S()), Z()), R(R(P(1, 1), P(2, 1), Z()), P(3, 2), R(P(1, 1), P(2, 1), Z()))))\n",
    "#Correct Expr:  C(R(R(R(P(1, 1), P(2, 1), Z()), R(S(), P(3, 2), S()), Z()), C(C(S(), S()), C(S(), P(2, 1))), Z()), C(R(P(1, 1), P(2, 1), Z()), P(2, 2)))\n",
    "# test values [[78, 44], [7, 40], [24, 8], [30, 1], [18, 5], [28, 41], [14, 23], [42, 32], [6, 51], [1, 38]]\n",
    "# pred_y_values [83, 75, 11, 0, 5, 77, 41, 59, 97, 71]\n",
    "# corredt_y_values [89, 81, 17, 0, 11, 83, 47, 65, 103, 77]\n",
    "\n",
    "x = np.array([[1, 0], [10, 7], [0, 0], [5, 7], [1, 1], [4, 1], [2, 0], [1, 0], [0, 0], [3, 4], [14, 13], [2, 2], [8, 4], [4, 11]])\n",
    "y = np.array([0, 15, 0, 15, 0, 0, 0, 0, 0, 9, 27, 5, 9, 23])\n"
   ]
  },
  {
   "cell_type": "code",
   "execution_count": 8,
   "id": "c699a062-41e6-4747-87ce-1e75a2496b74",
   "metadata": {},
   "outputs": [
    {
     "data": {
      "text/latex": [
       "$\\displaystyle \\left(5.1379851551912223 x_{1} + 6.850053017174206\\right) \\left(0.21100000000000002 \\arctan{\\left(6.2077061086153906 x_{0} + 20.787431607044485 x_{1} - 7.8092440232907647 \\right)} + 0.00567\\right)$"
      ],
      "text/plain": [
       "(5.1379851551912223*x_1 + 6.850053017174206)*(0.21100000000000002*arctan(6.2077061086153906*x_0 + 20.787431607044485*x_1 - 7.8092440232907647) + 0.00567)"
      ]
     },
     "metadata": {},
     "output_type": "display_data"
    }
   ],
   "source": [
    "est.fit(x,y)\n",
    "replace_ops = {\"add\": \"+\", \"mul\": \"*\", \"sub\": \"-\", \"pow\": \"**\", \"inv\": \"1/\"}\n",
    "model_str = est.retrieve_tree(with_infos=True)[\"relabed_predicted_tree\"].infix()\n",
    "for op,replace_op in replace_ops.items():\n",
    "    model_str = model_str.replace(op,replace_op)\n",
    "display(sp.parse_expr(model_str))"
   ]
  },
  {
   "cell_type": "markdown",
   "id": "e3f34074",
   "metadata": {},
   "source": [
    "# Use function"
   ]
  },
  {
   "cell_type": "code",
   "execution_count": 34,
   "id": "3d7fa753",
   "metadata": {},
   "outputs": [
    {
     "name": "stdout",
     "output_type": "stream",
     "text": [
      "[161.608335278932, 47.2975496051804, 75.0116609898571, 5.73994144166445, 3.99644523122401, 109.645795440516, 81.9356637827079, 55.9504419924757, 5.74950149498137, 73.2721772309043]\n"
     ]
    }
   ],
   "source": [
    "x_0, x_1 = sp.symbols(\"x_0 x_1\")\n",
    "exp_str = \"((0.00567 + (0.21100000000000002 * arctan(((-0.299 + (6.66 * (-0.9889463444961373 + (0.25173179678083496 * x_0)))) + ((((26.900000000000002 * (-0.9889463444961373 + (0.25173179678083496 * x_0))) - (2.5300000000000002 + (8.9 * (-0.9889463444961373 + (0.25173179678083496 * x_0))))) + (92.8 + (-5.11 * (-0.8495345825382311 + (0.23786968311070472 * x_1))))) - (-0.8480000000000001 + (-92.5 * (-0.8495345825382311 + (0.23786968311070472 * x_1))))))))) * (25.2 + (21.6 * (-0.8495345825382311 + (0.23786968311070472 * x_1)))))\"\n",
    "expr = sp.simplify(exp_str)\n",
    "x_values = [[19, 92], [20, 26], [33, 42], [12, 2], [7, 1], [11, 62], [19, 46], [5, 31], [19, 2], [8, 41]]\n",
    "# pred_y_values [83, 75, 11, 0, 5, 77, 41, 59, 97, 71]\n",
    "# corredt_y_values [89, 81, 17, 0, 11, 83, 47, 65, 103, 77]\n",
    "exprs = []\n",
    "for x, y in x_values:\n",
    "    exprs.append(expr.subs({x_0: x, x_1: y}))\n",
    "cur_exprs = [expr.subs(sp.Function(\"arctan\"), sp.atan) for expr in exprs]\n",
    "print([cur_expr.evalf() for cur_expr in cur_exprs])"
   ]
  }
 ],
 "metadata": {
  "kernelspec": {
   "display_name": "symbolic",
   "language": "python",
   "name": "python3"
  },
  "language_info": {
   "codemirror_mode": {
    "name": "ipython",
    "version": 3
   },
   "file_extension": ".py",
   "mimetype": "text/x-python",
   "name": "python",
   "nbconvert_exporter": "python",
   "pygments_lexer": "ipython3",
   "version": "3.7.16"
  }
 },
 "nbformat": 4,
 "nbformat_minor": 5
}
