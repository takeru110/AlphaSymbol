{
 "cells": [
  {
   "cell_type": "code",
   "execution_count": 1,
   "metadata": {},
   "outputs": [],
   "source": [
    "from pathlib import Path\n",
    "import pandas as pd\n",
    "import torch\n",
    "import torch.nn as nn\n",
    "\n",
    "data_path = \"/home/takeru/AlphaSymbol/data/prfndim/d3-a2-c3-r3-status.csv\"\n",
    "data_path = Path(data_path)\n",
    "df = pd.read_csv(data_path)\n",
    "batch_size = len(df)"
   ]
  },
  {
   "cell_type": "code",
   "execution_count": 10,
   "metadata": {},
   "outputs": [],
   "source": [
    "max_value = 20 # max value of input and output\n",
    "pad_idx = max_value + 1\n",
    "sos_idx = max_value + 2\n",
    "eos_idx = max_value + 3\n",
    "token_num = max_value + 4\n",
    "\n",
    "sequence = []\n",
    "# organize input and output data\n",
    "for input, output in zip(df[\"input\"], df[\"output\"]): \n",
    "    input, output = eval(input), eval(output)\n",
    "    point_li = []\n",
    "    for x, y in zip(input, output):\n",
    "        point_li.append([sos_idx, *x, y, eos_idx])\n",
    "    sequence.append(point_li)\n",
    "\n",
    "# pad\n",
    "max_input_size = max([len(seq[0]) for seq in sequence])\n",
    "for i, seq in enumerate(sequence):\n",
    "    current_len = len(seq[0])\n",
    "    for p in seq:\n",
    "        p.extend([pad_idx] * (max_input_size- current_len))\n",
    "\n",
    "point_num = len(sequence[0])\n",
    "sequence = torch.tensor(sequence) # shape is (batch, point_num, input_size)\n",
    "sequence = sequence.permute(1, 0, 2) # shape is (seq, batch, token_id)"
   ]
  },
  {
   "cell_type": "code",
   "execution_count": 11,
   "metadata": {},
   "outputs": [
    {
     "name": "stdout",
     "output_type": "stream",
     "text": [
      "torch.Size([10, 28, 5])\n"
     ]
    }
   ],
   "source": [
    "print(sequence.shape)"
   ]
  },
  {
   "cell_type": "code",
   "execution_count": 15,
   "metadata": {},
   "outputs": [
    {
     "name": "stdout",
     "output_type": "stream",
     "text": [
      "torch.Size([10, 28, 5])\n",
      "torch.Size([10, 28, 5, 64])\n",
      "torch.Size([10, 28, 320])\n",
      "torch.Size([10, 28, 512])\n"
     ]
    }
   ],
   "source": [
    "token_emb_dim = 64\n",
    "m = nn.Embedding(num_embeddings=token_num, embedding_dim=token_emb_dim, padding_idx=pad_idx)\n",
    "nn.init.normal_(m.weight, mean=0, std=token_emb_dim**-0.5)\n",
    "if pad_idx is not None:\n",
    "    nn.init.constant_(m.weight[pad_idx], 0)\n",
    "print(sequence.shape)\n",
    "sequences_embeddings = m(sequence)\n",
    "print(sequences_embeddings.shape)\n",
    "sequences_embeddings = sequences_embeddings.view(point_num, batch_size, -1)\n",
    "print(sequences_embeddings.shape)\n",
    "\n",
    "output_dim = 512\n",
    "hidden_size = max_len * token_emb_dim\n",
    "fc = nn.Linear(hidden_size, output_dim)\n",
    "output = fc(sequences_embeddings)\n",
    "print(output.shape)"
   ]
  }
 ],
 "metadata": {
  "kernelspec": {
   "display_name": "3.12.7",
   "language": "python",
   "name": "python3"
  },
  "language_info": {
   "codemirror_mode": {
    "name": "ipython",
    "version": 3
   },
   "file_extension": ".py",
   "mimetype": "text/x-python",
   "name": "python",
   "nbconvert_exporter": "python",
   "pygments_lexer": "ipython3",
   "version": "3.12.7"
  }
 },
 "nbformat": 4,
 "nbformat_minor": 2
}
