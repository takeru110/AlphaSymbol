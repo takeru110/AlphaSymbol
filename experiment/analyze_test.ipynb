{
 "cells": [
  {
   "cell_type": "code",
   "execution_count": 2,
   "metadata": {},
   "outputs": [],
   "source": [
    "import pandas as pd\n",
    "import matplotlib.pyplot as plt\n",
    "from prfndim.prfndim import Z, C, P, R, S"
   ]
  },
  {
   "cell_type": "code",
   "execution_count": 3,
   "metadata": {},
   "outputs": [],
   "source": [
    "data_path = \"/home/takeru/AlphaSymbol/data/prfndim/d5-a3-c2-r3-stopped-points-nodup-test-crop1000.csv\"\n",
    "df = pd.read_csv(data_path)"
   ]
  },
  {
   "cell_type": "code",
   "execution_count": null,
   "metadata": {},
   "outputs": [],
   "source": [
    "(df[\"expr\"].apply(lambda expr: len(expr))).hist(bins=30, alpha=0.5)\n",
    "plt.title(\"Distribution of the number of symbols in expressions\")\n",
    "plt.xlabel(\"number of symbols\")\n",
    "plt.ylabel(\"number of expression\")\n",
    "plt.show()\n",
    "\n",
    "df[\"n_points\"].hist(bins=max(df[\"n_points\"]), alpha=0.5)\n",
    "plt.title(\"Distribution of the number of points in expressions\")\n",
    "plt.xlabel(\"number of poinsts\")\n",
    "plt.ylabel(\"number of expression\")\n",
    "plt.show()\n",
    "\n",
    "df[\"arity\"].hist(bins=range(1, max(df[\"arity\"]) + 1), alpha=0.5)\n",
    "plt.title(\"Distribution of the input dimension of expressions\")\n",
    "plt.xlabel(\"number of points\")\n",
    "plt.ylabel(\"number of expression\")\n",
    "plt.show()\n",
    "\n",
    "\n",
    "df[\"test_n_points\"].hist(bins=max(df[\"test_n_points\"]), alpha=0.5)\n",
    "plt.title(\"Distribution of the test points in expressions\")\n",
    "plt.xlabel(\"number of points\")\n",
    "plt.ylabel(\"number of expression\")\n",
    "plt.show()"
   ]
  }
 ],
 "metadata": {
  "kernelspec": {
   "display_name": "3.12.7",
   "language": "python",
   "name": "python3"
  },
  "language_info": {
   "codemirror_mode": {
    "name": "ipython",
    "version": 3
   },
   "file_extension": ".py",
   "mimetype": "text/x-python",
   "name": "python",
   "nbconvert_exporter": "python",
   "pygments_lexer": "ipython3",
   "version": "3.12.7"
  }
 },
 "nbformat": 4,
 "nbformat_minor": 2
}
