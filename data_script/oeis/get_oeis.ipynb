{
 "cells": [
  {
   "cell_type": "code",
   "execution_count": 86,
   "metadata": {},
   "outputs": [
    {
     "name": "stdout",
     "output_type": "stream",
     "text": [
      "DatasetDict({\n",
      "    train: Dataset({\n",
      "        features: ['a-number', 'sequence', 'description'],\n",
      "        num_rows: 361596\n",
      "    })\n",
      "})\n",
      "{'a-number': 'A000001', 'sequence': ['0', '1', '1', '1', '2', '1', '2', '1', '5', '2', '2', '1', '5', '1', '2', '1', '14', '1', '5', '1', '5', '2', '2', '1', '15', '2', '2', '5', '4', '1', '4', '1', '51', '1', '2', '1', '14', '1', '2', '2', '14', '1', '6', '1', '4', '2', '2', '1', '52', '2', '5', '1', '5', '1', '15', '2', '13', '2', '2', '1', '13', '1', '2', '4', '267', '1', '4', '1', '5', '1', '4', '1', '50', '1', '2', '3', '4', '1', '6', '1', '52', '15', '2', '1', '15', '1', '2', '1', '12', '1', '10', '1', '4', '2'], 'description': 'Number of groups of order n.'}\n",
      "{'a-number': 'A000002', 'sequence': ['1', '2', '2', '1', '1', '2', '1', '2', '2', '1', '2', '2', '1', '1', '2', '1', '1', '2', '2', '1', '2', '1', '1', '2', '1', '2', '2', '1', '1', '2', '1', '1', '2', '1', '2', '2', '1', '2', '2', '1', '1', '2', '1', '2', '2', '1', '2', '1', '1', '2', '1', '1', '2', '2', '1', '2', '2', '1', '1', '2', '1', '2', '2', '1', '2', '2', '1', '1', '2', '1', '1', '2', '1', '2', '2', '1', '2', '1', '1', '2', '2', '1', '2', '2', '1', '1', '2', '1', '2', '2', '1', '2', '2', '1', '1', '2', '1', '1', '2', '2', '1', '2', '1', '1', '2', '1', '2', '2'], 'description': \"Kolakoski sequence: a(n) is length of n-th run; a(1) = 1; sequence consists just of 1's and 2's.\"}\n",
      "{'a-number': 'A000003', 'sequence': ['1', '1', '1', '1', '2', '2', '1', '2', '2', '2', '3', '2', '2', '4', '2', '2', '4', '2', '3', '4', '4', '2', '3', '4', '2', '6', '3', '2', '6', '4', '3', '4', '4', '4', '6', '4', '2', '6', '4', '4', '8', '4', '3', '6', '4', '4', '5', '4', '4', '6', '6', '4', '6', '6', '4', '8', '4', '2', '9', '4', '6', '8', '4', '4', '8', '8', '3', '8', '8', '4', '7', '4', '4', '10', '6', '6', '8', '4', '5', '8', '6', '4', '9', '8', '4', '10', '6', '4', '12', '8', '6', '6', '4', '8', '8', '8', '4', '8', '6', '4'], 'description': 'Number of classes of primitive positive definite binary quadratic forms of discriminant D = -4n; or equivalently the class number of the quadratic order of discriminant D = -4n.'}\n",
      "{'a-number': 'A000004', 'sequence': ['0', '0', '0', '0', '0', '0', '0', '0', '0', '0', '0', '0', '0', '0', '0', '0', '0', '0', '0', '0', '0', '0', '0', '0', '0', '0', '0', '0', '0', '0', '0', '0', '0', '0', '0', '0', '0', '0', '0', '0', '0', '0', '0', '0', '0', '0', '0', '0', '0', '0', '0', '0', '0', '0', '0', '0', '0', '0', '0', '0', '0', '0', '0', '0', '0', '0', '0', '0', '0', '0', '0', '0', '0', '0', '0', '0', '0', '0', '0', '0', '0', '0', '0', '0', '0', '0', '0', '0', '0', '0', '0', '0', '0', '0', '0', '0', '0', '0', '0', '0', '0', '0'], 'description': 'The zero sequence.'}\n",
      "{'a-number': 'A000005', 'sequence': ['1', '2', '2', '3', '2', '4', '2', '4', '3', '4', '2', '6', '2', '4', '4', '5', '2', '6', '2', '6', '4', '4', '2', '8', '3', '4', '4', '6', '2', '8', '2', '6', '4', '4', '4', '9', '2', '4', '4', '8', '2', '8', '2', '6', '6', '4', '2', '10', '3', '6', '4', '6', '2', '8', '4', '8', '4', '4', '2', '12', '2', '4', '6', '7', '4', '8', '2', '6', '4', '8', '2', '12', '2', '4', '6', '6', '4', '8', '2', '10', '5', '4', '2', '12', '4', '4', '4', '8', '2', '12', '4', '6', '4', '4', '4', '12', '2', '6', '6', '9', '2', '8', '2', '8'], 'description': 'd(n) (also called tau(n) or sigma_0(n)), the number of divisors of n.'}\n"
     ]
    }
   ],
   "source": [
    "from datasets import load_dataset\n",
    "import  pandas as pd\n",
    "\n",
    "dataset = load_dataset(\"christopher/oeis\")\n",
    "\n",
    "print(dataset) \n",
    "train_data = dataset[\"train\"]\n",
    "\n",
    "# Print the first few entries in the dataset\n",
    "for i, entry in enumerate(train_data):\n",
    "    print(entry)\n",
    "    if i >= 4:  \n",
    "        break\n",
    "train_df = pd.DataFrame(train_data)"
   ]
  },
  {
   "cell_type": "markdown",
   "metadata": {},
   "source": [
    "# Change to int list"
   ]
  },
  {
   "cell_type": "code",
   "execution_count": 87,
   "metadata": {},
   "outputs": [],
   "source": [
    "def change_sequence_to_int(row) -> list[int]:\n",
    "    str_list = row[\"sequence\"]\n",
    "    return [int(x) for x in str_list]\n",
    "\n",
    "train_df[\"sequence\"] = train_df.apply(change_sequence_to_int, axis=1)"
   ]
  },
  {
   "cell_type": "markdown",
   "metadata": {},
   "source": [
    "# Del not sutable rows"
   ]
  },
  {
   "cell_type": "code",
   "execution_count": 88,
   "metadata": {},
   "outputs": [],
   "source": [
    "input_len = 25\n",
    "df = train_df\n",
    "df = df[df.apply(lambda row:  (input_len <= len(row[\"sequence\"])), axis=1)]\n",
    "df = df[df.apply(lambda row: (min(row[\"sequence\"]) >= 0), axis=1)]\n",
    "df = df[df.apply(lambda row: (max(row[\"sequence\"]) < 1000), axis=1)]\n",
    "df[\"sequence\"] = df.apply(lambda row: row[\"sequence\"][:input_len], axis=1)\n",
    "processed_df = df"
   ]
  },
  {
   "cell_type": "markdown",
   "metadata": {},
   "source": [
    "# Del duplicated row"
   ]
  },
  {
   "cell_type": "code",
   "execution_count": 89,
   "metadata": {},
   "outputs": [
    {
     "name": "stdout",
     "output_type": "stream",
     "text": [
      "N samples: 72571\n",
      "   a-number                                        description  \\\n",
      "0   A000001                       Number of groups of order n.   \n",
      "18  A000019  Number of primitive permutation groups of degr...   \n",
      "51  A000052  1-digit numbers arranged in alphabetical order...   \n",
      "52  A000053  Local stops on New York City 1 Train (Broadway...   \n",
      "53  A000054        Local stops on New York City A line subway.   \n",
      "\n",
      "                                                input  \\\n",
      "0   [[0], [1], [2], [3], [4], [5], [6], [7], [8], ...   \n",
      "18  [[0], [1], [2], [3], [4], [5], [6], [7], [8], ...   \n",
      "51  [[0], [1], [2], [3], [4], [5], [6], [7], [8], ...   \n",
      "52  [[0], [1], [2], [3], [4], [5], [6], [7], [8], ...   \n",
      "53  [[0], [1], [2], [3], [4], [5], [6], [7], [8], ...   \n",
      "\n",
      "                                               output  n_points  arity  \\\n",
      "0   [0, 1, 1, 1, 2, 1, 2, 1, 5, 2, 2, 1, 5, 1, 2, ...        20      1   \n",
      "18  [1, 1, 2, 2, 5, 4, 7, 7, 11, 9, 8, 6, 9, 4, 6,...        20      1   \n",
      "51  [8, 5, 4, 9, 1, 7, 6, 3, 2, 0, 18, 80, 88, 85,...        20      1   \n",
      "52  [14, 18, 23, 28, 34, 42, 50, 59, 66, 72, 79, 8...        20      1   \n",
      "53  [4, 14, 23, 34, 42, 50, 59, 72, 81, 86, 96, 10...        20      1   \n",
      "\n",
      "                        test_input                test_output  test_n_points  \n",
      "0   [[20], [21], [22], [23], [24]]           [5, 2, 2, 1, 15]              5  \n",
      "18  [[20], [21], [22], [23], [24]]           [9, 4, 7, 5, 28]              5  \n",
      "51  [[20], [21], [22], [23], [24]]       [82, 11, 15, 50, 58]              5  \n",
      "52  [[20], [21], [22], [23], [24]]  [168, 181, 191, 207, 215]              5  \n",
      "53  [[20], [21], [22], [23], [24]]  [175, 181, 190, 200, 207]              5  \n"
     ]
    }
   ],
   "source": [
    "sep = 20\n",
    "end = 25\n",
    "# drop duplicated data\n",
    "df = pd.DataFrame()\n",
    "df[\"tuple\"] = processed_df[\"sequence\"].apply(lambda x: tuple(x[:10]))\n",
    "duplicated_indices = df[df.duplicated(keep=False)].index\n",
    "\n",
    "drop_dup_df = processed_df.drop(index=duplicated_indices)\n",
    "print(f\"N samples: {len(drop_dup_df)}\")\n",
    "\n",
    "\n",
    "\n",
    "output_df = pd.DataFrame()\n",
    "output_df[\"a-number\"] = drop_dup_df[\"a-number\"]\n",
    "output_df[ \"description\"] = drop_dup_df[\"description\"]\n",
    "output_df[\"input\"] = [[[el]for el in range(sep)] for _ in range(len(output_df))]\n",
    "output_df[\"output\"] = drop_dup_df[\"sequence\"].apply(lambda row: row[:sep])\n",
    "output_df[\"n_points\"] = sep\n",
    "output_df[\"arity\"] = 1\n",
    "output_df[\"test_input\"] = [[[el] for el in range(sep, end)] for _ in range(len(output_df))]\n",
    "output_df[\"test_output\"] = drop_dup_df[\"sequence\"].apply(lambda x: x[sep:end])\n",
    "output_df[\"test_n_points\"] = end - sep\n",
    "print(output_df.head())"
   ]
  }
 ],
 "metadata": {
  "kernelspec": {
   "display_name": "3.12.7",
   "language": "python",
   "name": "python3"
  },
  "language_info": {
   "codemirror_mode": {
    "name": "ipython",
    "version": 3
   },
   "file_extension": ".py",
   "mimetype": "text/x-python",
   "name": "python",
   "nbconvert_exporter": "python",
   "pygments_lexer": "ipython3",
   "version": "3.12.7"
  }
 },
 "nbformat": 4,
 "nbformat_minor": 2
}
