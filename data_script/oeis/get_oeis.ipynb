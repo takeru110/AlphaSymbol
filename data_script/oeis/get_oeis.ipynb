{
 "cells": [
  {
   "cell_type": "code",
   "execution_count": null,
   "metadata": {},
   "outputs": [],
   "source": [
    "from datasets import load_dataset\n",
    "import  pandas as pd\n",
    "\n",
    "dataset = load_dataset(\"christopher/oeis\")\n",
    "\n",
    "print(dataset) \n",
    "train_data = dataset[\"train\"]\n",
    "\n",
    "# Print the first few entries in the dataset\n",
    "for i, entry in enumerate(train_data):\n",
    "    print(entry)\n",
    "    if i >= 4:  \n",
    "        break\n",
    "train_df = pd.DataFrame(train_data)"
   ]
  },
  {
   "cell_type": "markdown",
   "metadata": {},
   "source": [
    "# Change to int list"
   ]
  },
  {
   "cell_type": "code",
   "execution_count": null,
   "metadata": {},
   "outputs": [],
   "source": [
    "def change_sequence_to_int(row) -> list[int]:\n",
    "    str_list = row[\"sequence\"]\n",
    "    return [int(x) for x in str_list]\n",
    "\n",
    "train_df[\"sequence\"] = train_df.apply(change_sequence_to_int, axis=1)"
   ]
  },
  {
   "cell_type": "markdown",
   "metadata": {},
   "source": [
    "# Del not sutable rows"
   ]
  },
  {
   "cell_type": "code",
   "execution_count": 84,
   "metadata": {},
   "outputs": [],
   "source": [
    "input_len = 25\n",
    "df = train_df\n",
    "df = df[df.apply(lambda row:  (input_len <= len(row[\"sequence\"])), axis=1)]\n",
    "df = df[df.apply(lambda row: (min(row[\"sequence\"]) >= 0), axis=1)]\n",
    "df = df[df.apply(lambda row: (max(row[\"sequence\"]) < 1000), axis=1)]\n",
    "df[\"sequence\"] = df.apply(lambda row: row[\"sequence\"][:input_len], axis=1)\n",
    "processed_df = df"
   ]
  },
  {
   "cell_type": "markdown",
   "metadata": {},
   "source": [
    "# Del duplicated row"
   ]
  },
  {
   "cell_type": "code",
   "execution_count": null,
   "metadata": {},
   "outputs": [],
   "source": [
    "sep = 20\n",
    "end = 25\n",
    "# drop duplicated data\n",
    "df = pd.DataFrame()\n",
    "df[\"tuple\"] = processed_df[\"sequence\"].apply(lambda x: tuple(x[:10]))\n",
    "duplicated_indices = df[df.duplicated(keep=False)].index\n",
    "\n",
    "drop_dup_df = processed_df.drop(index=duplicated_indices)\n",
    "print(f\"N samples: {len(drop_dup_df)}\")\n",
    "\n",
    "def input_list(list, sep) -> list[list[int]]:\n",
    "    return [[x] for x in list[:sep]]\n",
    "\n",
    "\n",
    "output_df = pd.DataFrame()\n",
    "output_df[\"a-number\"] = drop_dup_df[\"a-number\"]\n",
    "output_df[ \"description\"] = drop_dup_df[\"description\"]\n",
    "output_df[\"input\"] = [list(range(sep)) for _ in range(len(output_df))]\n",
    "output_df[\"output\"] = drop_dup_df[\"sequence\"].apply(lambda row: input_list(row, sep))\n",
    "output_df[\"n_points\"] = sep\n",
    "output_df[\"arity\"] = 1\n",
    "output_df[\"test_input\"] = [list(range(sep, end)) for _ in range(len(output_df))]\n",
    "output_df[\"test_output\"] = drop_dup_df[\"sequence\"].apply(lambda x: x[sep:end])\n",
    "output_df[\"test_n_points\"] = end - sep\n",
    "print(output_df.head())"
   ]
  }
 ],
 "metadata": {
  "kernelspec": {
   "display_name": "3.12.7",
   "language": "python",
   "name": "python3"
  },
  "language_info": {
   "codemirror_mode": {
    "name": "ipython",
    "version": 3
   },
   "file_extension": ".py",
   "mimetype": "text/x-python",
   "name": "python",
   "nbconvert_exporter": "python",
   "pygments_lexer": "ipython3",
   "version": "3.12.7"
  }
 },
 "nbformat": 4,
 "nbformat_minor": 2
}
