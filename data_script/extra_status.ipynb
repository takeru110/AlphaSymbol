{
 "cells": [
  {
   "cell_type": "code",
   "execution_count": 50,
   "metadata": {},
   "outputs": [],
   "source": [
    "import pandas as pd\n",
    "import sys\n",
    "from pathlib import Path\n",
    "from prfndim.prfndim import Z, P, C, R, S, Expr, OverflowError\n",
    "import numpy as np\n",
    "import logging\n",
    "import math\n"
   ]
  },
  {
   "cell_type": "code",
   "execution_count": 56,
   "metadata": {},
   "outputs": [],
   "source": [
    "sample_max = 10\n",
    "sample_num = 10\n",
    "max_arity = 5\n",
    "\n",
    "eq_domain = [np.zeros((sample_num, 1))] + [\n",
    "    np.random.randint(1, sample_max + 1, size=(sample_num ,dim))\n",
    "    for dim in range(1, max_arity + 1)\n",
    "]\n",
    "eq_domain[1] = np.array([[0], [1], [2], [3], [4], [5], [6], [7], [8], [9]])\n",
    "\n",
    "def get_output(expr: Expr):\n",
    "    arity = 0 if expr.arity is None else expr.arity\n",
    "    ans = []\n",
    "    for x in eq_domain[arity]:\n",
    "        try:\n",
    "            ans.append(int(expr.eval(*x)))\n",
    "        except OverflowError:\n",
    "            ans.append(\"Overflowed\") \n",
    "    return ans\n",
    "\n",
    "def get_input(arity: int):\n",
    "    if math.isnan(arity):\n",
    "        arity = 0\n",
    "    ans = [tuple(int(x) for x in input) for input in eq_domain[int(arity)]]\n",
    "    return ans\n"
   ]
  },
  {
   "cell_type": "code",
   "execution_count": 57,
   "metadata": {},
   "outputs": [
    {
     "name": "stdout",
     "output_type": "stream",
     "text": [
      "                                                     text  \\\n",
      "0                                                     Z()   \n",
      "1                                                     S()   \n",
      "2                                                 P(1, 1)   \n",
      "3                                                 P(2, 1)   \n",
      "4                                                 P(2, 2)   \n",
      "...                                                   ...   \n",
      "209995  C(R(R(S(), R(S(), P(3, 2), S()), C(S(), Z())),...   \n",
      "209996  C(R(R(S(), R(S(), P(3, 2), S()), C(S(), Z())),...   \n",
      "209997  C(R(R(S(), R(S(), P(3, 2), S()), C(S(), Z())),...   \n",
      "209998  C(R(R(S(), R(S(), P(3, 2), S()), C(S(), Z())),...   \n",
      "209999  C(R(R(S(), R(S(), P(3, 2), S()), C(S(), Z())),...   \n",
      "\n",
      "                                                     expr  arity  \\\n",
      "0                                                     Z()    NaN   \n",
      "1                                                     S()    1.0   \n",
      "2                                                 P(1, 1)    1.0   \n",
      "3                                                 P(2, 1)    2.0   \n",
      "4                                                 P(2, 2)    2.0   \n",
      "...                                                   ...    ...   \n",
      "209995  C(R(R(S(), R(S(), P(3, 2), S()), C(S(), Z())),...    3.0   \n",
      "209996  C(R(R(S(), R(S(), P(3, 2), S()), C(S(), Z())),...    3.0   \n",
      "209997  C(R(R(S(), R(S(), P(3, 2), S()), C(S(), Z())),...    3.0   \n",
      "209998  C(R(R(S(), R(S(), P(3, 2), S()), C(S(), Z())),...    3.0   \n",
      "209999  C(R(R(S(), R(S(), P(3, 2), S()), C(S(), Z())),...    3.0   \n",
      "\n",
      "                                                    input  \\\n",
      "0       [(0,), (0,), (0,), (0,), (0,), (0,), (0,), (0,...   \n",
      "1       [(0,), (1,), (2,), (3,), (4,), (5,), (6,), (7,...   \n",
      "2       [(0,), (1,), (2,), (3,), (4,), (5,), (6,), (7,...   \n",
      "3       [(10, 8), (9, 9), (1, 1), (4, 4), (2, 2), (9, ...   \n",
      "4       [(10, 8), (9, 9), (1, 1), (4, 4), (2, 2), (9, ...   \n",
      "...                                                   ...   \n",
      "209995  [(7, 1, 9), (5, 5, 9), (9, 3, 5), (7, 10, 10),...   \n",
      "209996  [(7, 1, 9), (5, 5, 9), (9, 3, 5), (7, 10, 10),...   \n",
      "209997  [(7, 1, 9), (5, 5, 9), (9, 3, 5), (7, 10, 10),...   \n",
      "209998  [(7, 1, 9), (5, 5, 9), (9, 3, 5), (7, 10, 10),...   \n",
      "209999  [(7, 1, 9), (5, 5, 9), (9, 3, 5), (7, 10, 10),...   \n",
      "\n",
      "                                                   output  len  depth  \n",
      "0                          [0, 0, 0, 0, 0, 0, 0, 0, 0, 0]    3      1  \n",
      "1                         [1, 2, 3, 4, 5, 6, 7, 8, 9, 10]    3      1  \n",
      "2                          [0, 1, 2, 3, 4, 5, 6, 7, 8, 9]    7      1  \n",
      "3                         [10, 9, 1, 4, 2, 9, 9, 1, 4, 1]    7      1  \n",
      "4                         [8, 9, 1, 4, 2, 2, 4, 9, 1, 10]    7      1  \n",
      "...                                                   ...  ...    ...  \n",
      "209995      [24, 160, 76, 510, 76, 214, 46, 114, 76, 114]  145      5  \n",
      "209996   [424, 424, 160, 510, 76, 276, 114, 276, 46, 276]  145      5  \n",
      "209997    [346, 214, 510, 346, 76, 276, 76, 160, 46, 424]  153      5  \n",
      "209998   [46, 214, 114, 604, 114, 276, 76, 160, 114, 160]  153      5  \n",
      "209999  [510, 510, 214, 604, 114, 346, 160, 346, 76, 346]  153      5  \n",
      "\n",
      "[210000 rows x 7 columns]\n"
     ]
    }
   ],
   "source": [
    "path = Path.cwd().parent / \"data\" / \"prfndim\" / \"d5-a3-c2-r3-stopped.csv\"\n",
    "df = pd.read_csv(path)\n",
    "df.fillna(0)\n",
    "df[\"expr\"] = df[\"text\"].apply(lambda x: eval(x))\n",
    "df[\"arity\"] = df[\"expr\"].apply(lambda x: x.arity)\n",
    "df[\"input\"] = df[\"arity\"].apply(get_input) \n",
    "df[\"output\"] = df[\"expr\"].apply(get_output)\n",
    "df[\"len\"] = df[\"text\"].apply(len)\n",
    "df[\"depth\"] = df[\"expr\"].apply(lambda x: x.depth)\n",
    "print(df)"
   ]
  },
  {
   "cell_type": "code",
   "execution_count": null,
   "metadata": {},
   "outputs": [],
   "source": [
    "df = df.sort_values(by=[\"arity\", \"len\"])\n",
    "output_path = Path.cwd().parent / \"data\" / \"prfndim\" / \"d5-a3-c2-r3-stopped-processed.csv\"\n",
    "df.to_csv(output_path)"
   ]
  }
 ],
 "metadata": {
  "kernelspec": {
   "display_name": "Python 3",
   "language": "python",
   "name": "python3"
  },
  "language_info": {
   "codemirror_mode": {
    "name": "ipython",
    "version": 3
   },
   "file_extension": ".py",
   "mimetype": "text/x-python",
   "name": "python",
   "nbconvert_exporter": "python",
   "pygments_lexer": "ipython3",
   "version": "3.12.7"
  }
 },
 "nbformat": 4,
 "nbformat_minor": 2
}
