{
 "cells": [
  {
   "cell_type": "code",
   "execution_count": 24,
   "metadata": {},
   "outputs": [],
   "source": [
    "import pandas as pd\n",
    "import os\n",
    "import sys\n",
    "from pathlib import Path\n",
    "from prfndim.prfndim import Z, P, C, R, S\n",
    "import numpy as np"
   ]
  },
  {
   "cell_type": "code",
   "execution_count": 23,
   "metadata": {},
   "outputs": [
    {
     "name": "stdout",
     "output_type": "stream",
     "text": [
      "                                                   expr  arity\n",
      "0                                                   Z()    NaN\n",
      "1                                                   S()    1.0\n",
      "2                                               P(1, 1)    1.0\n",
      "3                                               P(2, 1)    2.0\n",
      "4                                               P(2, 2)    2.0\n",
      "...                                                 ...    ...\n",
      "9887                           R(P(1, 1), P(2, 1), Z())    1.0\n",
      "9888                                    C(S(), P(4, 3))    4.0\n",
      "9889              C(P(3, 3), P(4, 2), P(4, 4), P(4, 2))    4.0\n",
      "9890  C(C(P(2, 1), Z(), P(2, 1)), Z(), C(P(2, 1), Z(...    2.0\n",
      "9891  C(P(2, 2), C(C(P(2, 1), Z(), P(2, 1)), Z(), C(...    2.0\n",
      "\n",
      "[9892 rows x 2 columns]\n"
     ]
    }
   ],
   "source": [
    "path = Path.cwd().parent / \"data\" / \"prfndim\" / \"raw_prfndim.csv\"\n",
    "df = pd.read_csv(path)\n",
    "\n",
    "arities = []\n",
    "for index, row in df.iterrows():\n",
    "    arities.append(eval(row[\"expr\"]).arity)\n",
    "df[\"arity\"] = arities\n",
    "print(df)"
   ]
  },
  {
   "cell_type": "code",
   "execution_count": 25,
   "metadata": {},
   "outputs": [
    {
     "name": "stdout",
     "output_type": "stream",
     "text": [
      "                                                   expr  arity\n",
      "0                                                   Z()    NaN\n",
      "1                                                   S()    1.0\n",
      "2                                               P(1, 1)    1.0\n",
      "3                                               P(2, 1)    2.0\n",
      "4                                               P(2, 2)    2.0\n",
      "...                                                 ...    ...\n",
      "9877     C(C(P(3, 3), Z(), P(2, 2), P(2, 1)), Z(), Z())    NaN\n",
      "9878  C(P(3, 3), P(4, 1), C(C(P(3, 3), Z(), P(2, 2),...    4.0\n",
      "9881  C(P(3, 2), C(P(3, 2), P(2, 1), P(2, 1), P(2, 2...    2.0\n",
      "9889              C(P(3, 3), P(4, 2), P(4, 4), P(4, 2))    4.0\n",
      "9891  C(P(2, 2), C(C(P(2, 1), Z(), P(2, 1)), Z(), C(...    2.0\n",
      "\n",
      "[4689 rows x 2 columns]\n"
     ]
    }
   ],
   "source": [
    "df_unique = df.drop_duplicates(subset=[\"expr\"])\n",
    "print(df_unique)"
   ]
  },
  {
   "cell_type": "code",
   "execution_count": 29,
   "metadata": {},
   "outputs": [
    {
     "name": "stdout",
     "output_type": "stream",
     "text": [
      "                                                 expr  arity  \\\n",
      "0                                                 S()    1.0   \n",
      "1                                             P(1, 1)    1.0   \n",
      "2   R(C(P(2, 2), P(3, 3), P(3, 2)), P(4, 1), P(4, ...    1.0   \n",
      "3               R(R(S(), P(2, 1), Z()), P(2, 2), Z())    1.0   \n",
      "4   R(C(P(3, 2), Z(), P(3, 3), P(3, 2)), P(4, 2), ...    1.0   \n",
      "..                                                ...    ...   \n",
      "85  C(C(C(C(S(), P(3, 3)), P(3, 1), C(S(), P(3, 3)...    4.0   \n",
      "86                                                Z()    NaN   \n",
      "87  C(R(S(), C(P(3, 3), P(2, 1), P(2, 1), P(2, 2))...    NaN   \n",
      "88                                C(S(), C(S(), Z()))    NaN   \n",
      "89  C(C(C(P(2, 2), Z(), S()), P(2, 1)), C(C(P(2, 2...    NaN   \n",
      "\n",
      "                                               inputs  \\\n",
      "0   ((1,), (2,), (3,), (4,), (5,), (6,), (7,), (8,...   \n",
      "1   ((1,), (2,), (3,), (4,), (5,), (6,), (7,), (8,...   \n",
      "2   ((1,), (2,), (3,), (4,), (5,), (6,), (7,), (8,...   \n",
      "3   ((1,), (2,), (3,), (4,), (5,), (6,), (7,), (8,...   \n",
      "4   ((1,), (2,), (3,), (4,), (5,), (6,), (7,), (8,...   \n",
      "..                                                ...   \n",
      "85  ((6, 7, 4, 6), (2, 8, 7, 7), (2, 3, 4, 4), (7,...   \n",
      "86                     ((0,), (0,), (0,), (0,), (0,))   \n",
      "87                     ((0,), (0,), (0,), (0,), (0,))   \n",
      "88                     ((0,), (0,), (0,), (0,), (0,))   \n",
      "89                     ((0,), (0,), (0,), (0,), (0,))   \n",
      "\n",
      "                             outputs  \n",
      "0   (2, 3, 4, 5, 6, 7, 8, 9, 10, 11)  \n",
      "1    (1, 2, 3, 4, 5, 6, 7, 8, 9, 10)  \n",
      "2     (0, 1, 2, 3, 4, 5, 6, 7, 8, 9)  \n",
      "3     (1, 1, 1, 1, 1, 1, 1, 1, 1, 1)  \n",
      "4     (0, 0, 0, 0, 0, 0, 0, 0, 0, 0)  \n",
      "..                               ...  \n",
      "85                   (3, 3, 3, 3, 3)  \n",
      "86                   (0, 0, 0, 0, 0)  \n",
      "87                   (1, 1, 1, 1, 1)  \n",
      "88                   (2, 2, 2, 2, 2)  \n",
      "89                   (3, 3, 3, 3, 3)  \n",
      "\n",
      "[90 rows x 4 columns]\n"
     ]
    },
    {
     "name": "stderr",
     "output_type": "stream",
     "text": [
      "/tmp/ipykernel_12333/2993093469.py:22: SettingWithCopyWarning: \n",
      "A value is trying to be set on a copy of a slice from a DataFrame.\n",
      "Try using .loc[row_indexer,col_indexer] = value instead\n",
      "\n",
      "See the caveats in the documentation: https://pandas.pydata.org/pandas-docs/stable/user_guide/indexing.html#returning-a-view-versus-a-copy\n",
      "  df_unique[\"inputs\"] = inputs_li\n",
      "/tmp/ipykernel_12333/2993093469.py:23: SettingWithCopyWarning: \n",
      "A value is trying to be set on a copy of a slice from a DataFrame.\n",
      "Try using .loc[row_indexer,col_indexer] = value instead\n",
      "\n",
      "See the caveats in the documentation: https://pandas.pydata.org/pandas-docs/stable/user_guide/indexing.html#returning-a-view-versus-a-copy\n",
      "  df_unique[\"outputs\"] = outputs_li\n"
     ]
    }
   ],
   "source": [
    "sample_max = 10\n",
    "sample_num = 5\n",
    "max_p_arity = 4\n",
    "\n",
    "eq_domain = [np.zeros((1))] + [\n",
    "    np.random.randint(1, sample_max + 1, size=(sample_num, dim))\n",
    "    for dim in range(1, max_p_arity + 1)\n",
    "]\n",
    "eq_domain[1] = np.array(range(1, sample_max + 1)).reshape(-1, 1)\n",
    "\n",
    "outputs_li = []\n",
    "inputs_li = []\n",
    "for index, row in df_unique.iterrows():\n",
    "    expr = eval(row[\"expr\"])\n",
    "    if expr.arity is None:\n",
    "        inputs = np.full((sample_num, 1), 0)\n",
    "    else:\n",
    "        inputs = eq_domain[expr.arity]\n",
    "    outputs = tuple(expr.eval(*args) for args in inputs)\n",
    "    inputs_li.append(tuple(tuple(int(arg) for arg in args) for args in inputs))\n",
    "    outputs_li.append(tuple(int(output) for output in outputs))\n",
    "df_unique[\"inputs\"] = inputs_li\n",
    "df_unique[\"outputs\"] = outputs_li\n",
    "\n",
    "\n",
    "df_unique_output = df_unique.drop_duplicates(subset=[\"arity\", \"outputs\"])\n",
    "df_unique_output = df_unique_output.sort_values(by=\"arity\").reset_index(drop=True)\n",
    "df_unique_output.to_csv(\"../data/prfndim/unique_output.csv\", index=True)\n",
    "print(df_unique_output)"
   ]
  },
  {
   "cell_type": "code",
   "execution_count": null,
   "metadata": {},
   "outputs": [],
   "source": []
  }
 ],
 "metadata": {
  "kernelspec": {
   "display_name": "Python 3",
   "language": "python",
   "name": "python3"
  },
  "language_info": {
   "codemirror_mode": {
    "name": "ipython",
    "version": 3
   },
   "file_extension": ".py",
   "mimetype": "text/x-python",
   "name": "python",
   "nbconvert_exporter": "python",
   "pygments_lexer": "ipython3",
   "version": "3.12.7"
  }
 },
 "nbformat": 4,
 "nbformat_minor": 2
}
