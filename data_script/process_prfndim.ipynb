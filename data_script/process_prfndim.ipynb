{
 "cells": [
  {
   "cell_type": "code",
   "execution_count": 5,
   "metadata": {},
   "outputs": [],
   "source": [
    "import pandas as pd\n",
    "import os\n",
    "import sys\n",
    "from pathlib import Path\n",
    "from prfndim.prfndim import Z, P, C, R, S\n",
    "import numpy as np"
   ]
  },
  {
   "cell_type": "code",
   "execution_count": 6,
   "metadata": {},
   "outputs": [
    {
     "name": "stdout",
     "output_type": "stream",
     "text": [
      "                                        expr  arity\n",
      "0                                        Z()    NaN\n",
      "1                                        S()    1.0\n",
      "2                                    P(1, 1)    1.0\n",
      "3                                    P(2, 1)    2.0\n",
      "4                                    P(2, 2)    2.0\n",
      "...                                      ...    ...\n",
      "9976                         C(S(), P(2, 2))    2.0\n",
      "9977  R(P(2, 2), P(3, 1), P(3, 1), Z(), Z())    1.0\n",
      "9978   R(S(), C(P(2, 1), Z(), P(2, 2)), Z())    1.0\n",
      "9979  R(P(2, 1), P(3, 2), P(3, 3), Z(), Z())    1.0\n",
      "9980  R(P(2, 1), P(3, 3), P(3, 1), Z(), Z())    1.0\n",
      "\n",
      "[9981 rows x 2 columns]\n"
     ]
    }
   ],
   "source": [
    "path = Path.cwd().parent / \"data\" / \"prfndim\" / \"raw_prfndim.csv\"\n",
    "df = pd.read_csv(path)\n",
    "\n",
    "arities = []\n",
    "for index, row in df.iterrows():\n",
    "    arities.append(eval(row[\"expr\"]).arity)\n",
    "df[\"arity\"] = arities\n",
    "print(df)"
   ]
  },
  {
   "cell_type": "code",
   "execution_count": null,
   "metadata": {},
   "outputs": [
    {
     "name": "stdout",
     "output_type": "stream",
     "text": [
      "                                                   expr  arity\n",
      "0                                                   Z()    NaN\n",
      "1                                                   S()    1.0\n",
      "2                                               P(1, 1)    1.0\n",
      "3                                               P(2, 1)    2.0\n",
      "4                                               P(2, 2)    2.0\n",
      "...                                                 ...    ...\n",
      "9960  C(R(P(3, 1), P(4, 2), P(4, 2), P(4, 1), Z(), Z...    3.0\n",
      "9963         C(P(3, 2), R(S(), P(2, 2), Z()), Z(), Z())    1.0\n",
      "9964  C(C(P(3, 1), C(P(1, 1), Z()), C(P(1, 1), Z()),...    3.0\n",
      "9973  C(R(S(), C(P(2, 1), Z(), P(2, 2)), Z()), P(4, 4))    4.0\n",
      "9975  C(C(P(3, 3), P(3, 3), P(3, 3), Z()), C(R(S(), ...    4.0\n",
      "\n",
      "[4230 rows x 2 columns]\n"
     ]
    }
   ],
   "source": [
    "df_unique = df.drop_duplicates(subset=[\"expr\"])\n",
    "print(df_unique)"
   ]
  },
  {
   "cell_type": "code",
   "execution_count": 11,
   "metadata": {},
   "outputs": [
    {
     "name": "stdout",
     "output_type": "stream",
     "text": [
      "                                                  expr  arity  \\\n",
      "0                                                  S()    1.0   \n",
      "1                                              P(1, 1)    1.0   \n",
      "2                                          C(S(), S())    1.0   \n",
      "3                          C(C(S(), S()), C(S(), S()))    1.0   \n",
      "4        R(S(), C(R(S(), P(2, 2), Z()), P(2, 2)), Z())    1.0   \n",
      "..                                                 ...    ...   \n",
      "179  C(R(P(3, 3), C(R(P(2, 2), P(3, 1), P(3, 2), Z(...    4.0   \n",
      "180  C(C(R(P(2, 2), P(3, 1), P(3, 1), Z(), Z()), P(...    4.0   \n",
      "181                                                Z()    NaN   \n",
      "182  C(P(2, 2), C(S(), Z()), C(S(), C(P(1, 1), C(S(...    NaN   \n",
      "183  C(R(S(), C(P(2, 1), Z(), P(2, 2)), C(P(1, 1), ...    NaN   \n",
      "\n",
      "                                                inputs  \\\n",
      "0    ((1,), (2,), (3,), (4,), (5,), (6,), (7,), (8,...   \n",
      "1    ((1,), (2,), (3,), (4,), (5,), (6,), (7,), (8,...   \n",
      "2    ((1,), (2,), (3,), (4,), (5,), (6,), (7,), (8,...   \n",
      "3    ((1,), (2,), (3,), (4,), (5,), (6,), (7,), (8,...   \n",
      "4    ((1,), (2,), (3,), (4,), (5,), (6,), (7,), (8,...   \n",
      "..                                                 ...   \n",
      "179  ((2, 6, 3, 5), (3, 6, 8, 2), (8, 10, 5, 8), (4...   \n",
      "180  ((2, 6, 3, 5), (3, 6, 8, 2), (8, 10, 5, 8), (4...   \n",
      "181                     ((0,), (0,), (0,), (0,), (0,))   \n",
      "182                     ((0,), (0,), (0,), (0,), (0,))   \n",
      "183                     ((0,), (0,), (0,), (0,), (0,))   \n",
      "\n",
      "                                 outputs  len  \n",
      "0       (2, 3, 4, 5, 6, 7, 8, 9, 10, 11)    3  \n",
      "1        (1, 2, 3, 4, 5, 6, 7, 8, 9, 10)    7  \n",
      "2      (3, 4, 5, 6, 7, 8, 9, 10, 11, 12)   11  \n",
      "3    (5, 6, 7, 8, 9, 10, 11, 12, 13, 14)   27  \n",
      "4         (2, 2, 2, 2, 2, 2, 2, 2, 2, 2)   45  \n",
      "..                                   ...  ...  \n",
      "179                      (0, 2, 0, 3, 0)  293  \n",
      "180                      (0, 0, 4, 0, 0)  301  \n",
      "181                      (0, 0, 0, 0, 0)    3  \n",
      "182                      (2, 2, 2, 2, 2)   56  \n",
      "183                      (1, 1, 1, 1, 1)  112  \n",
      "\n",
      "[184 rows x 5 columns]\n"
     ]
    },
    {
     "name": "stderr",
     "output_type": "stream",
     "text": [
      "/tmp/ipykernel_3648/1165187328.py:24: SettingWithCopyWarning: \n",
      "A value is trying to be set on a copy of a slice from a DataFrame.\n",
      "Try using .loc[row_indexer,col_indexer] = value instead\n",
      "\n",
      "See the caveats in the documentation: https://pandas.pydata.org/pandas-docs/stable/user_guide/indexing.html#returning-a-view-versus-a-copy\n",
      "  df_unique[\"inputs\"] = inputs_li\n",
      "/tmp/ipykernel_3648/1165187328.py:25: SettingWithCopyWarning: \n",
      "A value is trying to be set on a copy of a slice from a DataFrame.\n",
      "Try using .loc[row_indexer,col_indexer] = value instead\n",
      "\n",
      "See the caveats in the documentation: https://pandas.pydata.org/pandas-docs/stable/user_guide/indexing.html#returning-a-view-versus-a-copy\n",
      "  df_unique[\"outputs\"] = outputs_li\n",
      "/tmp/ipykernel_3648/1165187328.py:26: SettingWithCopyWarning: \n",
      "A value is trying to be set on a copy of a slice from a DataFrame.\n",
      "Try using .loc[row_indexer,col_indexer] = value instead\n",
      "\n",
      "See the caveats in the documentation: https://pandas.pydata.org/pandas-docs/stable/user_guide/indexing.html#returning-a-view-versus-a-copy\n",
      "  df_unique[\"len\"] = len_li\n"
     ]
    }
   ],
   "source": [
    "sample_max = 10\n",
    "sample_num = 5\n",
    "max_p_arity = 4\n",
    "\n",
    "eq_domain = [np.zeros((1))] + [\n",
    "    np.random.randint(1, sample_max + 1, size=(sample_num, dim))\n",
    "    for dim in range(1, max_p_arity + 1)\n",
    "]\n",
    "eq_domain[1] = np.array(range(1, sample_max + 1)).reshape(-1, 1)\n",
    "\n",
    "outputs_li = []\n",
    "inputs_li = []\n",
    "len_li= []\n",
    "for index, row in df_unique.iterrows():\n",
    "    expr = eval(row[\"expr\"])\n",
    "    if expr.arity is None:\n",
    "        inputs = np.full((sample_num, 1), 0)\n",
    "    else:\n",
    "        inputs = eq_domain[expr.arity]\n",
    "    outputs = tuple(expr.eval(*args) for args in inputs)\n",
    "    inputs_li.append(tuple(tuple(int(arg) for arg in args) for args in inputs))\n",
    "    outputs_li.append(tuple(int(output) for output in outputs))\n",
    "    len_li.append(len(str(expr)))\n",
    "df_unique[\"inputs\"] = inputs_li\n",
    "df_unique[\"outputs\"] = outputs_li\n",
    "df_unique[\"len\"] = len_li\n",
    "\n",
    "\n",
    "df_unique_output = df_unique.drop_duplicates(subset=[\"arity\", \"outputs\"])\n",
    "df_unique_output = df_unique_output.sort_values(by=[\"arity\", \"len\"]).reset_index(drop=True)\n",
    "print(df_unique_output)"
   ]
  },
  {
   "cell_type": "code",
   "execution_count": 12,
   "metadata": {},
   "outputs": [],
   "source": [
    "df_unique_output.to_csv(\"../data/prfndim/unique_output.csv\", index=True)"
   ]
  }
 ],
 "metadata": {
  "kernelspec": {
   "display_name": "Python 3",
   "language": "python",
   "name": "python3"
  },
  "language_info": {
   "codemirror_mode": {
    "name": "ipython",
    "version": 3
   },
   "file_extension": ".py",
   "mimetype": "text/x-python",
   "name": "python",
   "nbconvert_exporter": "python",
   "pygments_lexer": "ipython3",
   "version": "3.12.7"
  }
 },
 "nbformat": 4,
 "nbformat_minor": 2
}
