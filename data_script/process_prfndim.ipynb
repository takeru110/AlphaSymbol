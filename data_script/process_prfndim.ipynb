{
 "cells": [
  {
   "cell_type": "code",
   "execution_count": 39,
   "metadata": {},
   "outputs": [],
   "source": [
    "import pandas as pd\n",
    "import os\n",
    "import sys\n",
    "from pathlib import Path\n",
    "from prfndim.prfndim import Z, P, C, R, S\n",
    "import numpy as np"
   ]
  },
  {
   "cell_type": "code",
   "execution_count": 40,
   "metadata": {},
   "outputs": [
    {
     "name": "stdout",
     "output_type": "stream",
     "text": [
      "                                                     expr  arity\n",
      "0                   C(P(3, 2), P(2, 1), P(2, 2), P(2, 2))    2.0\n",
      "1                  R(P(2, 1), P(3, 1), P(3, 3), Z(), Z())    1.0\n",
      "2                   C(P(3, 2), P(4, 3), P(4, 2), P(4, 4))    4.0\n",
      "3                           C(P(3, 3), P(3, 3), Z(), Z())    3.0\n",
      "4       R(P(2, 1), P(3, 3), C(P(3, 3), P(3, 3), Z(), Z...    1.0\n",
      "...                                                   ...    ...\n",
      "200007                                            P(3, 3)    3.0\n",
      "200008                                            P(4, 1)    4.0\n",
      "200009                                            P(4, 2)    4.0\n",
      "200010                                            P(4, 3)    4.0\n",
      "200011                                            P(4, 4)    4.0\n",
      "\n",
      "[200012 rows x 2 columns]\n"
     ]
    }
   ],
   "source": [
    "path = Path.cwd().parent / \"data\" / \"prfndim\" / \"raw_prfndim.csv\"\n",
    "df = pd.read_csv(path)\n",
    "\n",
    "arities = []\n",
    "for index, row in df.iterrows():\n",
    "    arities.append(eval(row[\"expr\"]).arity)\n",
    "df[\"arity\"] = arities\n",
    "print(df)"
   ]
  },
  {
   "cell_type": "code",
   "execution_count": 41,
   "metadata": {},
   "outputs": [
    {
     "name": "stdout",
     "output_type": "stream",
     "text": [
      "                                                     expr  arity\n",
      "0                   C(P(3, 2), P(2, 1), P(2, 2), P(2, 2))    2.0\n",
      "1                  R(P(2, 1), P(3, 1), P(3, 3), Z(), Z())    1.0\n",
      "2                   C(P(3, 2), P(4, 3), P(4, 2), P(4, 4))    4.0\n",
      "3                           C(P(3, 3), P(3, 3), Z(), Z())    3.0\n",
      "4       R(P(2, 1), P(3, 3), C(P(3, 3), P(3, 3), Z(), Z...    1.0\n",
      "...                                                   ...    ...\n",
      "200007                                            P(3, 3)    3.0\n",
      "200008                                            P(4, 1)    4.0\n",
      "200009                                            P(4, 2)    4.0\n",
      "200010                                            P(4, 3)    4.0\n",
      "200011                                            P(4, 4)    4.0\n",
      "\n",
      "[93329 rows x 2 columns]\n"
     ]
    }
   ],
   "source": [
    "df_unique = df.drop_duplicates(subset=[\"expr\"])\n",
    "print(df_unique)"
   ]
  },
  {
   "cell_type": "code",
   "execution_count": 42,
   "metadata": {},
   "outputs": [
    {
     "name": "stderr",
     "output_type": "stream",
     "text": [
      "/tmp/ipykernel_7830/321815760.py:22: SettingWithCopyWarning: \n",
      "A value is trying to be set on a copy of a slice from a DataFrame.\n",
      "Try using .loc[row_indexer,col_indexer] = value instead\n",
      "\n",
      "See the caveats in the documentation: https://pandas.pydata.org/pandas-docs/stable/user_guide/indexing.html#returning-a-view-versus-a-copy\n",
      "  df_unique[\"inputs\"] = inputs_li\n",
      "/tmp/ipykernel_7830/321815760.py:23: SettingWithCopyWarning: \n",
      "A value is trying to be set on a copy of a slice from a DataFrame.\n",
      "Try using .loc[row_indexer,col_indexer] = value instead\n",
      "\n",
      "See the caveats in the documentation: https://pandas.pydata.org/pandas-docs/stable/user_guide/indexing.html#returning-a-view-versus-a-copy\n",
      "  df_unique[\"outputs\"] = outputs_li\n"
     ]
    }
   ],
   "source": [
    "sample_max = 10\n",
    "sample_num = 5\n",
    "max_p_arity = 4\n",
    "\n",
    "eq_domain = [np.zeros((1))] + [\n",
    "    np.random.randint(1, sample_max + 1, size=(sample_num, dim))\n",
    "    for dim in range(1, max_p_arity + 1)\n",
    "]\n",
    "eq_domain[1] = np.array(range(1, sample_max + 1)).reshape(-1, 1)\n",
    "\n",
    "outputs_li = []\n",
    "inputs_li = []\n",
    "for index, row in df_unique.iterrows():\n",
    "    expr = eval(row[\"expr\"])\n",
    "    if expr.arity is None:\n",
    "        inputs = np.full((sample_num, 1), 0)\n",
    "    else:\n",
    "        inputs = eq_domain[expr.arity]\n",
    "    outputs = tuple(expr.eval(*args) for args in inputs)\n",
    "    inputs_li.append(tuple(tuple(int(arg) for arg in args) for args in inputs))\n",
    "    outputs_li.append(tuple(int(output) for output in outputs))\n",
    "df_unique[\"inputs\"] = inputs_li\n",
    "df_unique[\"outputs\"] = outputs_li\n",
    "\n",
    "\n",
    "df_unique_output = df_unique.drop_duplicates(subset=[\"arity\", \"outputs\"])\n",
    "\n"
   ]
  },
  {
   "cell_type": "code",
   "execution_count": 45,
   "metadata": {},
   "outputs": [],
   "source": [
    "df_unique_output = df_unique_output.sort_values(by=\"arity\").reset_index(drop=True)\n",
    "df_unique_output.to_csv(\"../data/prfndim/unique_output.csv\", index=True)"
   ]
  }
 ],
 "metadata": {
  "kernelspec": {
   "display_name": "Python 3",
   "language": "python",
   "name": "python3"
  },
  "language_info": {
   "codemirror_mode": {
    "name": "ipython",
    "version": 3
   },
   "file_extension": ".py",
   "mimetype": "text/x-python",
   "name": "python",
   "nbconvert_exporter": "python",
   "pygments_lexer": "ipython3",
   "version": "3.12.7"
  }
 },
 "nbformat": 4,
 "nbformat_minor": 2
}
