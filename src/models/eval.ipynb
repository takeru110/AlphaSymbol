{
 "cells": [
  {
   "cell_type": "code",
   "execution_count": 1,
   "metadata": {},
   "outputs": [],
   "source": [
    "%load_ext autoreload\n",
    "%autoreload 2"
   ]
  },
  {
   "cell_type": "code",
   "execution_count": 2,
   "metadata": {},
   "outputs": [],
   "source": [
    "from train import LitTransformer\n",
    "from pathlib import Path\n",
    "from data import TransformerDataset\n",
    "import torch\n",
    "import yaml\n",
    "from data import get_tgt_str, id2token\n",
    "import pandas as pd"
   ]
  },
  {
   "cell_type": "code",
   "execution_count": null,
   "metadata": {},
   "outputs": [],
   "source": [
    "model_path = \"/home/takeru/AlphaSymbol/logs/2024-1216-1842-51/lightning_logs/version_0/checkpoints/epoch=15-step=2048.ckpt\"\n",
    "\n",
    "model = LitTransformer.load_from_checkpoint(model_path)\n",
    "device = model.device\n",
    "model.to(device)\n",
    "model.eval()\n",
    "\n",
    "src_vocab = model.src_vocab\n",
    "tgt_vocab = model.tgt_vocab\n",
    "src_max_len = model.src_max_len\n",
    "tgt_max_len = model.tgt_max_len\n",
    "\n",
    "#inputs = [(0,), (1,), (2,), (3,), (4,), (5,), (6,), (7,), (8,), (9,)]\n",
    "inputs = [(0,), (0,), (0,), (0,), (0,), (0,), (0,), (0,), (0,), (0,)]\n",
    "#outputs = [2, 3, 4, 5, 6, 7, 8, 9, 10, 11]\n",
    "outputs = [0, 0, 0, 0, 0, 0, 0, 0, 0, 0]\n",
    "#outputs = [1, 1, 1, 1, 1, 1, 1, 1, 1, 1]\n",
    "#outputs = [1, 2, 3, 4, 5, 6, 7, 8, 9, 10]\n",
    "#outputs = [0, 1, 2, 3, 4, 5, 6, 7, 8, 9]\n",
    "#inputs = [(0,), (0,)]\n",
    "#outputs = [0, 0]\n",
    "#outputs = [1, 1]\n",
    "src_str = get_tgt_str(inputs, outputs)\n",
    "src_tensor = torch.tensor([src_vocab[\"<sos>\"]] + [src_vocab[i] for i in src_str] + [src_vocab[\"<eos>\"]])\n",
    "src_tensor = torch.cat([src_tensor, torch.tensor([src_vocab[\"<pad>\"] for _ in range(src_max_len - src_tensor.shape[0])])])\n",
    "src_tensor = src_tensor.unsqueeze(0)\n",
    "src_tensor = src_tensor.to(device)\n",
    "\n",
    "current_str = [tgt_vocab[\"<sos>\"]]\n",
    "\n",
    "with torch.no_grad():\n",
    "    for i in range(tgt_max_len - 1):\n",
    "        out_str = current_str + [tgt_vocab[\"<pad>\"]] * (tgt_max_len - len(current_str) - 1)\n",
    "        out_str = torch.tensor(out_str).to(device)\n",
    "        out_str = out_str.reshape((1, -1))\n",
    "        pred = model(src_tensor, out_str)\n",
    "        next_c = pred[0, 0, :]\n",
    "        max_values, max_indices = torch.max(next_c, axis=0)\n",
    "        current_str.append(max_indices.item())\n",
    "        current_str = current_str + [tgt_vocab[\"<pad>\"]]\n",
    "        if max_indices == tgt_vocab[\"<eos>\"]:\n",
    "            break\n",
    "\n",
    "print([id2token(tgt_vocab, id) for id in out_str[0]])"
   ]
  },
  {
   "cell_type": "markdown",
   "metadata": {},
   "source": [
    "# Analize each token"
   ]
  },
  {
   "cell_type": "code",
   "execution_count": null,
   "metadata": {},
   "outputs": [],
   "source": [
    "from torch import nn\n",
    "import pandas as pd\n",
    "from data import TransformerDataset\n",
    "\n",
    "df = pd.read_csv(\"/home/takeru/AlphaSymbol/data/prfndim/d3-a2-c3-r3-status.csv\")\n",
    "dataset = TransformerDataset(df)\n",
    "\n",
    "idx = 0\n",
    "src_in, src_out, tgt_out = dataset[idx][0], dataset[idx][1][:-1], dataset[idx][1][1:]\n",
    "src_in, src_out, tgt_out = src_in.to(device), src_out.to(device), tgt_out.to(device)\n",
    "pred_token_id = 1 #>=1\n",
    "\n",
    "print(\"Input\")\n",
    "print(dataset.df[\"expr\"].iloc[idx])\n",
    "\n",
    "print(\"Raw Data\")\n",
    "print(\"src_in: \", src_in)\n",
    "print(\"src_out: \", src_out)\n",
    "print(\"tgt_out: \", tgt_out)\n",
    "\n",
    "src_in = src_in.reshape((1, -1))\n",
    "pad_tensor = torch.tensor([tgt_vocab[\"<pad>\"] for _ in range(len(src_out) - pred_token_id)]).to(device)\n",
    "src_out = torch.cat((src_out[:pred_token_id], pad_tensor)).reshape((1, -1))\n",
    "tgt_out = tgt_out[pred_token_id - 1].reshape((1, ))\n",
    "\n",
    "print(\"Processed data for training\")\n",
    "print(\"src_in: \", src_in)\n",
    "print(\"src_out: \", src_out)\n",
    "print(\"tgt_out: \", tgt_out)\n",
    "\n",
    "\n",
    "model.eval()\n",
    "pred = model(src_in, src_out) # (Seq, N, E)\n",
    "pred_token = pred[-1, 0, :]\n",
    "print(\"pred: \", pred_token)\n",
    "\n",
    "    \n",
    "loss_fn = nn.CrossEntropyLoss(ignore_index=tgt_vocab[\"<pad>\"])\n",
    "pred_for_loss = pred_token.reshape((1, -1))\n",
    "loss = loss_fn(pred_for_loss, tgt_out)\n",
    "print(loss)"
   ]
  }
 ],
 "metadata": {
  "kernelspec": {
   "display_name": "3.12.7",
   "language": "python",
   "name": "python3"
  },
  "language_info": {
   "codemirror_mode": {
    "name": "ipython",
    "version": 3
   },
   "file_extension": ".py",
   "mimetype": "text/x-python",
   "name": "python",
   "nbconvert_exporter": "python",
   "pygments_lexer": "ipython3",
   "version": "3.12.7"
  }
 },
 "nbformat": 4,
 "nbformat_minor": 2
}
