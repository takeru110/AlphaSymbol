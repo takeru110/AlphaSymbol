{
 "cells": [
  {
   "cell_type": "code",
   "execution_count": 1,
   "metadata": {},
   "outputs": [],
   "source": [
    "%load_ext autoreload\n",
    "%autoreload 2"
   ]
  },
  {
   "cell_type": "code",
   "execution_count": 2,
   "metadata": {},
   "outputs": [],
   "source": [
    "from train import LitTransformer\n",
    "from pathlib import Path\n",
    "from data import TransformerDataset\n",
    "import torch\n",
    "import yaml\n",
    "from data import get_tgt_str, id2token\n",
    "import pandas as pd"
   ]
  },
  {
   "cell_type": "code",
   "execution_count": null,
   "metadata": {},
   "outputs": [],
   "source": [
    "\n",
    "model_path = \"/home/takeru/AlphaSymbol/logs/2024-1215-1409-29/lightning_logs/version_0/checkpoints/epoch=49-step=200.ckpt\"\n",
    "\n",
    "model = LitTransformer.load_from_checkpoint(model_path)\n",
    "model.eval()\n",
    "\n",
    "\n",
    "src_vocab = model.src_vocab\n",
    "tgt_vocab = model.tgt_vocab\n",
    "src_max_len = model.src_max_len\n",
    "tgt_max_len = model.tgt_max_len\n",
    "\n",
    "inputs = [(0,), (1,), (2,), (3,), (4,), (5,), (6,), (7,), (8,), (9,)]\n",
    "#outputs = [2, 3, 4, 5, 6, 7, 8, 9, 10, 11]\n",
    "outputs = [0, 0, 0, 0, 0, 0, 0, 0, 0, 0]\n",
    "#outputs = [1, 2, 3, 4, 5, 6, 7, 8, 9, 10]\n",
    "#inputs = [(0,), (0,)]\n",
    "#outputs = [0, 0]\n",
    "#outputs = [1, 1]\n",
    "src_str = get_tgt_str(inputs, outputs)\n",
    "src_tensor = torch.tensor([src_vocab[i] for i in src_str])\n",
    "src_tensor = torch.cat([src_tensor, torch.tensor([src_vocab[\"<pad>\"] for _ in range(src_max_len - src_tensor.shape[0])])])\n",
    "src_tensor = src_tensor.unsqueeze(0)\n",
    "src_tensor = src_tensor.to(model.device)\n",
    "\n",
    "out_str = torch.tensor(tgt_vocab[\"<sos>\"]).reshape((1, ))\n",
    "out_str = out_str.unsqueeze(0)\n",
    "out_str = out_str.to(model.device)\n",
    "\n",
    "\n",
    "with torch.no_grad():\n",
    "    for i in range(tgt_max_len):\n",
    "        pred = model(src_tensor, out_str)\n",
    "        next_c = pred[0, -1, :]\n",
    "        max_values, max_indices = torch.max(next_c, axis=0)\n",
    "        out_str = torch.cat((out_str, max_indices.reshape(1, 1)), axis=1)\n",
    "        if max_indices == tgt_vocab[\"<eos>\"]:\n",
    "            break\n",
    "\n",
    "print([id2token(tgt_vocab, id) for id in out_str[0]])"
   ]
  }
 ],
 "metadata": {
  "kernelspec": {
   "display_name": "3.12.7",
   "language": "python",
   "name": "python3"
  },
  "language_info": {
   "codemirror_mode": {
    "name": "ipython",
    "version": 3
   },
   "file_extension": ".py",
   "mimetype": "text/x-python",
   "name": "python",
   "nbconvert_exporter": "python",
   "pygments_lexer": "ipython3",
   "version": "3.12.7"
  }
 },
 "nbformat": 4,
 "nbformat_minor": 2
}
