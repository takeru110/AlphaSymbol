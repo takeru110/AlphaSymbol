{
 "cells": [
  {
   "cell_type": "code",
   "execution_count": 20,
   "metadata": {},
   "outputs": [
    {
     "name": "stdout",
     "output_type": "stream",
     "text": [
      "The autoreload extension is already loaded. To reload it, use:\n",
      "  %reload_ext autoreload\n"
     ]
    }
   ],
   "source": [
    "%load_ext autoreload\n",
    "%autoreload 2\n",
    "from data import PREDataModule"
   ]
  },
  {
   "cell_type": "code",
   "execution_count": 60,
   "metadata": {},
   "outputs": [],
   "source": [
    "data_path = \"/home/takeru/AlphaSymbol/data/prfndim/d3-a2-c3-r3-status.csv\"\n",
    "data_module = PREDataModule(data_path=data_path, batch_size=4, max_value=100)"
   ]
  },
  {
   "cell_type": "code",
   "execution_count": 61,
   "metadata": {},
   "outputs": [],
   "source": [
    "data_module.prepare_data()\n",
    "data_module.setup()\n",
    "data_loader = data_module.train_dataloader()"
   ]
  },
  {
   "cell_type": "code",
   "execution_count": 62,
   "metadata": {},
   "outputs": [
    {
     "name": "stdout",
     "output_type": "stream",
     "text": [
      "len dataloader:  4\n",
      "train.shape:  torch.Size([4, 10, 5]) test.shape:  torch.Size([4, 55])\n",
      "train.shape:  torch.Size([4, 10, 5]) test.shape:  torch.Size([4, 55])\n",
      "train.shape:  torch.Size([4, 10, 5]) test.shape:  torch.Size([4, 55])\n",
      "train.shape:  torch.Size([4, 10, 5]) test.shape:  torch.Size([4, 55])\n"
     ]
    }
   ],
   "source": [
    "print(\"len dataloader: \", len(data_loader))\n",
    "for batch in data_loader:\n",
    "    train, test = batch\n",
    "    print(\"train.shape: \",train.shape, \"test.shape: \", test.shape)"
   ]
  }
 ],
 "metadata": {
  "kernelspec": {
   "display_name": "3.12.7",
   "language": "python",
   "name": "python3"
  },
  "language_info": {
   "codemirror_mode": {
    "name": "ipython",
    "version": 3
   },
   "file_extension": ".py",
   "mimetype": "text/x-python",
   "name": "python",
   "nbconvert_exporter": "python",
   "pygments_lexer": "ipython3",
   "version": "3.12.7"
  }
 },
 "nbformat": 4,
 "nbformat_minor": 2
}
