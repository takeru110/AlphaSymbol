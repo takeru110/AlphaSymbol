{
 "cells": [
  {
   "cell_type": "code",
   "execution_count": 17,
   "metadata": {},
   "outputs": [
    {
     "name": "stdout",
     "output_type": "stream",
     "text": [
      "The autoreload extension is already loaded. To reload it, use:\n",
      "  %reload_ext autoreload\n"
     ]
    }
   ],
   "source": [
    "%load_ext autoreload\n",
    "%autoreload 2"
   ]
  },
  {
   "cell_type": "code",
   "execution_count": 18,
   "metadata": {},
   "outputs": [],
   "source": [
    "from models import TransformerModel\n",
    "import torch\n",
    "import yaml\n",
    "from data import get_tgt_str, build_vocab, id2token"
   ]
  },
  {
   "cell_type": "code",
   "execution_count": 59,
   "metadata": {},
   "outputs": [
    {
     "name": "stderr",
     "output_type": "stream",
     "text": [
      "/tmp/ipykernel_20380/1392261157.py:2: FutureWarning: You are using `torch.load` with `weights_only=False` (the current default value), which uses the default pickle module implicitly. It is possible to construct malicious pickle data which will execute arbitrary code during unpickling (See https://github.com/pytorch/pytorch/blob/main/SECURITY.md#untrusted-models for more details). In a future release, the default value for `weights_only` will be flipped to `True`. This limits the functions that could be executed during unpickling. Arbitrary objects will no longer be allowed to be loaded via this mode unless they are explicitly allowlisted by the user via `torch.serialization.add_safe_globals`. We recommend you start setting `weights_only=True` for any use case where you don't have full control of the loaded file. Please open an issue on GitHub for any issues related to this experimental feature.\n",
      "  state_dict = torch.load(\"/home/takeru/AlphaSymbol/train_script/model_30000epochs_20241202235904.pth\")\n",
      "/home/takeru/.pyenv/versions/3.12.7/lib/python3.12/site-packages/torch/nn/modules/transformer.py:379: UserWarning: enable_nested_tensor is True, but self.use_nested_tensor is False because encoder_layer.self_attn.batch_first was not True(use batch_first for better inference performance)\n",
      "  warnings.warn(\n"
     ]
    },
    {
     "name": "stdout",
     "output_type": "stream",
     "text": [
      "<sos>\n",
      "Z\n",
      ")\n",
      "<eos>\n"
     ]
    }
   ],
   "source": [
    "config_path = \"/home/takeru/AlphaSymbol/train_script/config_20241202235904.yaml\"\n",
    "state_dict = torch.load(\"/home/takeru/AlphaSymbol/train_script/model_30000epochs_20241202235904.pth\")\n",
    "\n",
    "with open(config_path, \"r\") as f:\n",
    "    config = yaml.safe_load(f)\n",
    "\n",
    "src_max_len = config[\"src_max_len\"]\n",
    "tgt_max_len = config[\"tgt_max_len\"]\n",
    "src_vocab = config[\"src_vocab\"]\n",
    "tgt_vocab = config[\"tgt_vocab\"]\n",
    "\n",
    "model = TransformerModel(len(src_vocab), len(tgt_vocab), src_max_len, tgt_max_len)\n",
    "model.eval()\n",
    "\n",
    "inputs = [(0,), (1,), (2,), (3,), (4,), (5,), (6,), (7,), (8,), (9,)]\n",
    "# outputs = [2, 3, 4, 5, 6, 7, 8, 9, 10, 11]\n",
    "outputs = [0, 0, 0, 0, 0, 0, 0, 0, 0, 0]\n",
    "# outputs = [1, 2, 3, 4, 5, 6, 7, 8, 9, 10]\n",
    "src_str = get_tgt_str(inputs, outputs)\n",
    "src_tensor = torch.tensor([src_vocab[i] for i in src_str])\n",
    "src_tensor = torch.cat([src_tensor, torch.tensor([src_vocab[\"<pad>\"] for _ in range(src_max_len - src_tensor.shape[0])])])\n",
    "src_tensor = src_tensor.unsqueeze(0)\n",
    "out_str = torch.tensor(tgt_vocab[\"<sos>\"]).reshape((1, ))\n",
    "out_str = out_str.unsqueeze(0)\n",
    "\n",
    "with torch.no_grad():\n",
    "    for i in range(tgt_max_len):\n",
    "        model.load_state_dict(state_dict)\n",
    "        model.eval()\n",
    "        pred = model(src_tensor, out_str)\n",
    "        next_c = pred[0, -1, :]\n",
    "        max_values, max_indices = torch.max(next_c, axis=0)\n",
    "        out_str = torch.cat((out_str, max_indices.reshape(1, 1)), axis=1)\n",
    "        if max_indices == tgt_vocab[\"<eos>\"]:\n",
    "            break\n",
    "\n",
    "for id in out_str[0]:\n",
    "    print(id2token(tgt_vocab, id))"
   ]
  }
 ],
 "metadata": {
  "kernelspec": {
   "display_name": "3.12.7",
   "language": "python",
   "name": "python3"
  },
  "language_info": {
   "codemirror_mode": {
    "name": "ipython",
    "version": 3
   },
   "file_extension": ".py",
   "mimetype": "text/x-python",
   "name": "python",
   "nbconvert_exporter": "python",
   "pygments_lexer": "ipython3",
   "version": "3.12.7"
  }
 },
 "nbformat": 4,
 "nbformat_minor": 2
}
